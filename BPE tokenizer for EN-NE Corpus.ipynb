{
 "cells": [
  {
   "cell_type": "code",
   "execution_count": 54,
   "id": "3ce369e4",
   "metadata": {},
   "outputs": [],
   "source": [
    "import torch\n",
    "import re\n",
    "import sentencepiece as spm\n",
    "import random\n",
    "\n",
    "from collections import Counter"
   ]
  },
  {
   "cell_type": "code",
   "execution_count": 51,
   "id": "95bbbc8a",
   "metadata": {},
   "outputs": [],
   "source": [
    "config = {\n",
    "    'train_en_path': './dataset/consolidated/train.en',\n",
    "    'train_ne_path': './dataset/consolidated/train.ne',\n",
    "    'default_vocab_size': 15000\n",
    "}"
   ]
  },
  {
   "cell_type": "code",
   "execution_count": 48,
   "id": "11774fd2",
   "metadata": {},
   "outputs": [],
   "source": [
    "with open(config['train_en_path'], 'r', encoding='utf-8') as f:\n",
    "    en_lines = f.readlines()\n",
    "    \n",
    "with open(config['train_ne_path'], 'r', encoding='utf-8') as f:\n",
    "    ne_lines = f.readlines()\n",
    "    \n",
    "assert len(en_lines) == len(ne_lines)"
   ]
  },
  {
   "cell_type": "code",
   "execution_count": 50,
   "id": "545ae13c",
   "metadata": {},
   "outputs": [
    {
     "name": "stdout",
     "output_type": "stream",
     "text": [
      "Number of unique ENGLISH words: 52751\n",
      "Number of unique NEPALI words: 20423\n"
     ]
    }
   ],
   "source": [
    "def count_unique_words(sentences):\n",
    "    unique_words = set()\n",
    "    counter_ = Counter()\n",
    "    for sentence in sentences:\n",
    "        words = re.findall(r'\\b\\w+\\b', sentence.lower())\n",
    "        unique_words.update(words)\n",
    "        counter_.update(words)\n",
    "    \n",
    "    return len(unique_words), unique_words, counter_\n",
    "\n",
    "count, unique_words, counter = count_unique_words(en_lines)\n",
    "print(f\"Number of unique ENGLISH words: {count}\")\n",
    "count, unique_words, counter = count_unique_words(ne_lines)\n",
    "print(f\"Number of unique NEPALI words: {count}\")"
   ]
  },
  {
   "cell_type": "code",
   "execution_count": 53,
   "id": "ed8c9987",
   "metadata": {},
   "outputs": [],
   "source": [
    "# training BPE sentencepiece tokenizer for both EN and NE corpus\n",
    "spm.SentencePieceTrainer.train(input = config['train_en_path'], model_prefix = 'en_bpe_model', vocab_size = config['default_vocab_size'], model_type = 'bpe')\n",
    "\n",
    "spm.SentencePieceTrainer.train(input = config['train_ne_path'], model_prefix = 'ne_bpe_model', vocab_size = config['default_vocab_size'], model_type = 'bpe')"
   ]
  },
  {
   "cell_type": "code",
   "execution_count": 61,
   "id": "03db8ced",
   "metadata": {},
   "outputs": [
    {
     "name": "stdout",
     "output_type": "stream",
     "text": [
      "Open the selected item in this window\n",
      " \n",
      " चयन गरिएको वस्तु यस सञ्झ्यालमा खोल्नुहोस्\n",
      "\n",
      "['▁Open', '▁the', '▁selected', '▁item', '▁in', '▁this', '▁window']\n",
      "['▁चयन', '▁गरिएको', '▁वस्तु', '▁यस', '▁सञ्झ्यालमा', '▁खोल्नुहोस्']\n",
      "[1489, 7, 675, 2195, 32, 142, 686]\n",
      "[347, 246, 523, 92, 3223, 2419]\n"
     ]
    },
    {
     "data": {
      "text/plain": [
       "(0, 0, 1, 1, 2, 2)"
      ]
     },
     "execution_count": 61,
     "metadata": {},
     "output_type": "execute_result"
    }
   ],
   "source": [
    "# test\n",
    "sp_en = spm.SentencePieceProcessor(model_file = 'en_bpe_model.model')\n",
    "sp_ne = spm.SentencePieceProcessor(model_file = 'ne_bpe_model.model')\n",
    "\n",
    "idx = random.randint(0, len(en_lines))\n",
    "\n",
    "en_translation = en_lines[idx]\n",
    "np_translation = ne_lines[idx]\n",
    "\n",
    "print(en_translation, '\\n', np_translation)\n",
    "print(sp_en.encode(en_translation, out_type = str))\n",
    "print(sp_ne.encode(np_translation, out_type = str))\n",
    "\n",
    "print(sp_en.encode(en_translation, out_type = int))\n",
    "print(sp_ne.encode(np_translation, out_type = int))\n",
    "\n",
    "\n",
    "sp_en.piece_to_id('<pad>'), sp_ne.piece_to_id('<pad>'), sp_en.piece_to_id('<s>'), sp_ne.piece_to_id('<s>'), sp_en.piece_to_id('</s>'), sp_ne.piece_to_id('</s>')\n"
   ]
  },
  {
   "cell_type": "code",
   "execution_count": null,
   "id": "a670e14b",
   "metadata": {},
   "outputs": [],
   "source": [
    "encoded_pieces = sp.encode(\"<pad> This is a test sentence.\", out_type = str)\n",
    "encoded_ids = sp.encode(\"<pad> This is a test sentence.\", out_type = int)\n",
    "print(encoded_pieces, encoded_ids)\n",
    "\n",
    "\n",
    "decoded_sentence = sp.decode(encoded_pieces)\n",
    "print(decoded_sentence)\n",
    "\n",
    "sp.piece_to_id('<pad>')"
   ]
  }
 ],
 "metadata": {
  "kernelspec": {
   "display_name": "Python 3 (ipykernel)",
   "language": "python",
   "name": "python3"
  },
  "language_info": {
   "codemirror_mode": {
    "name": "ipython",
    "version": 3
   },
   "file_extension": ".py",
   "mimetype": "text/x-python",
   "name": "python",
   "nbconvert_exporter": "python",
   "pygments_lexer": "ipython3",
   "version": "3.11.5"
  }
 },
 "nbformat": 4,
 "nbformat_minor": 5
}
