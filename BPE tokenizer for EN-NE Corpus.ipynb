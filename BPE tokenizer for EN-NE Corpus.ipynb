{
 "cells": [
  {
   "cell_type": "code",
   "execution_count": 1,
   "id": "890e0ca1",
   "metadata": {},
   "outputs": [],
   "source": [
    "import torch\n",
    "import re\n",
    "import sentencepiece as spm\n",
    "import random\n",
    "\n",
    "from collections import Counter"
   ]
  },
  {
   "cell_type": "code",
   "execution_count": 2,
   "id": "c814d185",
   "metadata": {},
   "outputs": [],
   "source": [
    "config = {\n",
    "    'train_en_path': './dataset/consolidated/train.en',\n",
    "    'train_ne_path': './dataset/consolidated/train.ne',\n",
    "    'default_vocab_size': 15000\n",
    "}"
   ]
  },
  {
   "cell_type": "code",
   "execution_count": 3,
   "id": "2d5465d5",
   "metadata": {},
   "outputs": [],
   "source": [
    "with open(config['train_en_path'], 'r', encoding='utf-8') as f:\n",
    "    en_lines = f.readlines()\n",
    "    \n",
    "with open(config['train_ne_path'], 'r', encoding='utf-8') as f:\n",
    "    ne_lines = f.readlines()\n",
    "    \n",
    "assert len(en_lines) == len(ne_lines)"
   ]
  },
  {
   "cell_type": "code",
   "execution_count": 4,
   "id": "3ced58e2",
   "metadata": {},
   "outputs": [
    {
     "name": "stdout",
     "output_type": "stream",
     "text": [
      "Number of unique ENGLISH words: 52751\n",
      "Number of unique NEPALI words: 20423\n"
     ]
    }
   ],
   "source": [
    "def count_unique_words(sentences):\n",
    "    unique_words = set()\n",
    "    counter_ = Counter()\n",
    "    for sentence in sentences:\n",
    "        words = re.findall(r'\\b\\w+\\b', sentence.lower())\n",
    "        unique_words.update(words)\n",
    "        counter_.update(words)\n",
    "    \n",
    "    return len(unique_words), unique_words, counter_\n",
    "\n",
    "count, unique_words, counter = count_unique_words(en_lines)\n",
    "print(f\"Number of unique ENGLISH words: {count}\")\n",
    "count, unique_words, counter = count_unique_words(ne_lines)\n",
    "print(f\"Number of unique NEPALI words: {count}\")"
   ]
  },
  {
   "cell_type": "code",
   "execution_count": 5,
   "id": "a8d4f084",
   "metadata": {},
   "outputs": [],
   "source": [
    "# training BPE sentencepiece tokenizer for both EN and NE corpus\n",
    "spm.SentencePieceTrainer.train(input = config['train_en_path'], model_prefix = 'en_bpe_model', vocab_size = config['default_vocab_size'], model_type = 'bpe', user_defined_symbols = ['<pad>'])\n",
    "\n",
    "spm.SentencePieceTrainer.train(input = config['train_ne_path'], model_prefix = 'ne_bpe_model', vocab_size = config['default_vocab_size'], model_type = 'bpe', user_defined_symbols = ['<pad>'])"
   ]
  },
  {
   "cell_type": "code",
   "execution_count": 6,
   "id": "4d28bb36",
   "metadata": {},
   "outputs": [
    {
     "name": "stdout",
     "output_type": "stream",
     "text": [
      "Only preliminary works could be undertaken towards the establishment of the proposed textile plant at Butwal.\n",
      " \n",
      " वुटवलमा सूती धागो उद्योग स्थापना गर्ने तर्फ प्रारम्भिक कार्य मात्र हुन सकेको छ\n",
      "\n",
      "['▁Only', '▁preliminary', '▁works', '▁could', '▁be', '▁undertaken', '▁towards', '▁the', '▁establishment', '▁of', '▁the', '▁proposed', '▁textile', '▁plant', '▁at', '▁Butwal', '.']\n",
      "['▁वु', 'ट', 'व', 'लमा', '▁सू', 'ती', '▁धागो', '▁उद्योग', '▁स्थापना', '▁गर्ने', '▁तर्फ', '▁प्रारम्भिक', '▁कार्य', '▁मात्र', '▁हुन', '▁सकेको', '▁छ']\n",
      "[2344, 6972, 1165, 726, 48, 3143, 3020, 8, 3623, 20, 8, 3656, 12594, 2068, 197, 9881, 14938]\n",
      "[10929, 14882, 14874, 817, 2110, 317, 6875, 1050, 829, 188, 1961, 4177, 164, 306, 345, 2179, 37]\n"
     ]
    },
    {
     "data": {
      "text/plain": [
       "(3, 3, 1, 1, 2, 2, 0, 0)"
      ]
     },
     "execution_count": 6,
     "metadata": {},
     "output_type": "execute_result"
    }
   ],
   "source": [
    "# test\n",
    "sp_en = spm.SentencePieceProcessor(model_file = 'en_bpe_model.model')\n",
    "sp_ne = spm.SentencePieceProcessor(model_file = 'ne_bpe_model.model')\n",
    "\n",
    "idx = random.randint(0, len(en_lines))\n",
    "\n",
    "en_translation = en_lines[idx]\n",
    "np_translation = ne_lines[idx]\n",
    "\n",
    "print(en_translation, '\\n', np_translation)\n",
    "print(sp_en.encode(en_translation, out_type = str))\n",
    "print(sp_ne.encode(np_translation, out_type = str))\n",
    "\n",
    "print(sp_en.encode(en_translation, out_type = int))\n",
    "print(sp_ne.encode(np_translation, out_type = int))\n",
    "\n",
    "\n",
    "sp_en.piece_to_id('<pad>'), sp_ne.piece_to_id('<pad>'), sp_en.piece_to_id('<s>'), sp_ne.piece_to_id('<s>'), sp_en.piece_to_id('</s>'), sp_ne.piece_to_id('</s>'), sp_en.piece_to_id('<unk>'), sp_en.piece_to_id('<unk>')\n"
   ]
  },
  {
   "cell_type": "code",
   "execution_count": null,
   "id": "231f2158",
   "metadata": {},
   "outputs": [],
   "source": [
    "encoded_pieces = sp.encode(\"<pad> This is a test sentence.\", out_type = str)\n",
    "encoded_ids = sp.encode(\"<pad> This is a test sentence.\", out_type = int)\n",
    "print(encoded_pieces, encoded_ids)\n",
    "\n",
    "\n",
    "decoded_sentence = sp.decode(encoded_pieces)\n",
    "print(decoded_sentence)\n",
    "\n",
    "sp.piece_to_id('<pad>')"
   ]
  }
 ],
 "metadata": {
  "kernelspec": {
   "display_name": "Python 3 (ipykernel)",
   "language": "python",
   "name": "python3"
  },
  "language_info": {
   "codemirror_mode": {
    "name": "ipython",
    "version": 3
   },
   "file_extension": ".py",
   "mimetype": "text/x-python",
   "name": "python",
   "nbconvert_exporter": "python",
   "pygments_lexer": "ipython3",
   "version": "3.11.5"
  }
 },
 "nbformat": 4,
 "nbformat_minor": 5
}
